{
 "cells": [
  {
   "cell_type": "markdown",
   "id": "d973fc24",
   "metadata": {},
   "source": [
    "Use numpy to generate array of 25 random numbers sampled from a standard normal distribution"
   ]
  },
  {
   "cell_type": "code",
   "execution_count": 1,
   "id": "e0409379",
   "metadata": {},
   "outputs": [
    {
     "name": "stdout",
     "output_type": "stream",
     "text": [
      "25 random numbers from a standard normal distribution:\n",
      "[-0.03089849 -0.15049987 -0.47147652  0.787702    0.36788725  0.04747206\n",
      "  1.19374738  0.02777891  0.54610515 -0.66298812  0.05567471 -1.04632736\n",
      "  0.47586397 -1.51472826 -0.91192053 -0.27985045  1.0847431  -1.57653371\n",
      " -1.25996597 -0.72110586 -2.27273133  0.71813371  0.62897598  1.12398334\n",
      "  0.80703546]\n"
     ]
    }
   ],
   "source": [
    "import numpy as np\n",
    "rand_num = np.random.normal(0,1,25)\n",
    "print(\"25 random numbers from a standard normal distribution:\")\n",
    "print(rand_num)"
   ]
  },
  {
   "cell_type": "markdown",
   "id": "4f843403",
   "metadata": {},
   "source": [
    "Create a random vector of size 30 and find the mean value."
   ]
  },
  {
   "cell_type": "code",
   "execution_count": 2,
   "id": "ae57c5ea",
   "metadata": {},
   "outputs": [
    {
     "name": "stdout",
     "output_type": "stream",
     "text": [
      "0.44126391653831293\n"
     ]
    }
   ],
   "source": [
    "a = np.random.random(30)\n",
    "b = a.mean()\n",
    "print(b)"
   ]
  },
  {
   "cell_type": "markdown",
   "id": "2a96dc52",
   "metadata": {},
   "source": [
    "Insert 1 to 100 numbers in a numpy array and reshape it to 10*10 matrix."
   ]
  },
  {
   "cell_type": "code",
   "execution_count": 8,
   "id": "7f7c48ab",
   "metadata": {},
   "outputs": [
    {
     "name": "stdout",
     "output_type": "stream",
     "text": [
      "[[ 0  1  2  3  4  5  6  7  8  9]\n",
      " [10 11 12 13 14 15 16 17 18 19]\n",
      " [20 21 22 23 24 25 26 27 28 29]\n",
      " [30 31 32 33 34 35 36 37 38 39]\n",
      " [40 41 42 43 44 45 46 47 48 49]\n",
      " [50 51 52 53 54 55 56 57 58 59]\n",
      " [60 61 62 63 64 65 66 67 68 69]\n",
      " [70 71 72 73 74 75 76 77 78 79]\n",
      " [80 81 82 83 84 85 86 87 88 89]\n",
      " [90 91 92 93 94 95 96 97 98 99]]\n"
     ]
    }
   ],
   "source": [
    "import numpy as np\n",
    "Z = np.arange(100).reshape(10,10)\n",
    "print(Z)"
   ]
  },
  {
   "cell_type": "markdown",
   "id": "f36883cc",
   "metadata": {},
   "source": [
    "Create a 10x10 array with random values and find the minimum and maximum values.\n"
   ]
  },
  {
   "cell_type": "code",
   "execution_count": 17,
   "id": "daeb7b64",
   "metadata": {},
   "outputs": [
    {
     "name": "stdout",
     "output_type": "stream",
     "text": [
      "[0.59527657 0.58943653 0.97903534 0.04108347 0.07058234 0.81131545\n",
      " 0.90498122 0.01072017 0.12786832 0.97159885 0.49372277 0.57212969\n",
      " 0.53041965 0.05529873 0.977268   0.96350533 0.70816015 0.10643364\n",
      " 0.46019007 0.09990453 0.13519773 0.67755639 0.13925151 0.85476298\n",
      " 0.38835323 0.67882899 0.96686989 0.89321934 0.58313633 0.30873665\n",
      " 0.85263457 0.21871769 0.31310089 0.8200225  0.72126657 0.78649049\n",
      " 0.62007365 0.02141331 0.96272508 0.801255   0.02554103 0.85816909\n",
      " 0.87021934 0.99408868 0.98106858 0.22617615 0.92724385 0.31858455\n",
      " 0.13991819 0.40950812 0.42672508 0.89480034 0.5187197  0.67496491\n",
      " 0.94445759 0.30295731 0.77310942 0.47967493 0.56513331 0.52207344\n",
      " 0.08314675 0.22791882 0.0032199  0.88501969 0.20002453 0.48269345\n",
      " 0.78213451 0.35811189 0.43625345 0.67909374 0.71637937 0.61509002\n",
      " 0.79951632 0.1095833  0.33059269 0.86936613 0.39504869 0.58607092\n",
      " 0.38843469 0.65492899 0.86629281 0.58964419 0.50733353 0.19968364\n",
      " 0.19087249 0.98054084 0.66669432 0.40956806 0.82763606 0.14000518\n",
      " 0.18614955 0.34994151 0.79780132 0.83148766 0.33293856 0.53308954\n",
      " 0.48501141 0.14340899 0.86228711 0.55320226]\n",
      "minimum: 0.0032199018753343855 maximum: 0.9940886796656807\n"
     ]
    }
   ],
   "source": [
    "import numpy as np\n",
    "a=np.random.random(100)\n",
    "print(a)\n",
    "amin, amax = a.min(), a.max()\n",
    "print(\"minimum:\",amin, \"maximum:\",amax)"
   ]
  },
  {
   "cell_type": "markdown",
   "id": "f5cd96e3",
   "metadata": {},
   "source": [
    "Find Dot product of two arrays\n",
    "\n",
    "f = np.array([1,2])\n",
    "\n",
    "g = np.array([4,5])"
   ]
  },
  {
   "cell_type": "code",
   "execution_count": 18,
   "id": "d60af9a9",
   "metadata": {},
   "outputs": [
    {
     "data": {
      "text/plain": [
       "14"
      ]
     },
     "execution_count": 18,
     "metadata": {},
     "output_type": "execute_result"
    }
   ],
   "source": [
    "f = np.array([1,2])\n",
    "\n",
    "g = np.array([4,5])\n",
    "np.dot(f,g)"
   ]
  },
  {
   "cell_type": "markdown",
   "id": "aed7b638",
   "metadata": {},
   "source": [
    "Concatenate following arrays along axis=0\n",
    "Ans: x=np.array([[1,2],[3,4]])\n",
    "\n",
    "y=np.array([[5,6]])"
   ]
  },
  {
   "cell_type": "code",
   "execution_count": 21,
   "id": "8c4530f2",
   "metadata": {},
   "outputs": [
    {
     "data": {
      "text/plain": [
       "array([[1, 2],\n",
       "       [3, 4],\n",
       "       [5, 6]])"
      ]
     },
     "execution_count": 21,
     "metadata": {},
     "output_type": "execute_result"
    }
   ],
   "source": [
    "import numpy as np\n",
    "x=np.array([[1,2],[3,4]])\n",
    "y=np.array([[5,6]])\n",
    "\n",
    "np.concatenate((x,y), axis=0) "
   ]
  },
  {
   "cell_type": "markdown",
   "id": "c65af5a6",
   "metadata": {},
   "source": [
    "#How to get the common items between two python numpy arrays?\n",
    "a = np.array([1,2,3,2,3,4,3,4,5,6])\n",
    "\n",
    "b = np.array([7,2,10,2,7,4,9,4,9,8])\n",
    "\n",
    "\n",
    "\n"
   ]
  },
  {
   "cell_type": "code",
   "execution_count": 23,
   "id": "b6bebd41",
   "metadata": {},
   "outputs": [
    {
     "name": "stdout",
     "output_type": "stream",
     "text": [
      "[2 4]\n"
     ]
    }
   ],
   "source": [
    "a = np.array([1,2,3,2,3,4,3,4,5,6])\n",
    "\n",
    "b = np.array([7,2,10,2,7,4,9,4,9,8])\n",
    "print(np.intersect1d(a,b))"
   ]
  },
  {
   "cell_type": "markdown",
   "id": "f6606480",
   "metadata": {},
   "source": [
    "Sort the numpy array:\n",
    "\n",
    "arr = np.array([10,5,8,4,7,2,3,1])"
   ]
  },
  {
   "cell_type": "code",
   "execution_count": 24,
   "id": "ba70ae6d",
   "metadata": {},
   "outputs": [
    {
     "name": "stdout",
     "output_type": "stream",
     "text": [
      "Sorted Array :  [ 1  2  3  4  5  7  8 10]\n"
     ]
    }
   ],
   "source": [
    "arr = np.array([10,5,8,4,7,2,3,1])\n",
    "arr.sort()\n",
    "print('Sorted Array : ', arr)"
   ]
  },
  {
   "cell_type": "code",
   "execution_count": null,
   "id": "0600cd30",
   "metadata": {},
   "outputs": [],
   "source": []
  }
 ],
 "metadata": {
  "kernelspec": {
   "display_name": "Python 3",
   "language": "python",
   "name": "python3"
  },
  "language_info": {
   "codemirror_mode": {
    "name": "ipython",
    "version": 3
   },
   "file_extension": ".py",
   "mimetype": "text/x-python",
   "name": "python",
   "nbconvert_exporter": "python",
   "pygments_lexer": "ipython3",
   "version": "3.8.8"
  }
 },
 "nbformat": 4,
 "nbformat_minor": 5
}
